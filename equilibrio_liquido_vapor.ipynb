{
 "cells": [
  {
   "cell_type": "markdown",
   "id": "d227aa5b",
   "metadata": {},
   "source": [
    "## Equilíbrio Líquido-Vapor"
   ]
  },
  {
   "cell_type": "code",
   "execution_count": 55,
   "id": "0ede1d3e",
   "metadata": {},
   "outputs": [],
   "source": [
    "import numpy as np\n",
    "import matplotlib.pyplot as plt\n",
    "import pandas as pd"
   ]
  },
  {
   "cell_type": "markdown",
   "id": "cd58f7c6",
   "metadata": {},
   "source": [
    "Quando se fala em equilíbrio entre as fases líquido e vapor, devem ser observadas 3 condições:\n",
    "<p> $T^{L}$ = $T^{V}$ </p> <p> $P^{L}$ = $P^{V}$ </p> <p> $\\mu^{L}$ = $\\mu^{V}$ </p>"
   ]
  },
  {
   "cell_type": "markdown",
   "id": "8941da9a",
   "metadata": {},
   "source": [
    "Ou seja, deve-se observar o equilíbrio térmico, de momento e de potencial químico."
   ]
  },
  {
   "cell_type": "markdown",
   "id": "1f0bbbfa",
   "metadata": {},
   "source": [
    "Nesse notebook serão abordadas as formas de cálculo de ponto de bolha e orvalho com base em T e P usando o modelo de Antoine e, considerando a lei de Raoult. Serão calculados P a partir de T e vice-versa. Serão calculados os pontos de bolha e orvalho, com base em P e depois em T, e, por fim, será plotada a curva do ponto de bolha e de orvalho com temperatura constante e com pressão constante."
   ]
  },
  {
   "cell_type": "markdown",
   "id": "e14b3bb6",
   "metadata": {},
   "source": [
    "Ponto de bolha - Consiste-se no ponto em que a pressão cai o suficiente (ou a temperatura sobe o suficiente) de modo a se observar a primeira bolha de vapor na solução líquida."
   ]
  },
  {
   "cell_type": "markdown",
   "id": "e6948337",
   "metadata": {},
   "source": [
    "Ponto de orvalho - Consiste-se no ponto em que a pressão sobe o suficiente (ou a temperatura cai o suficiente) de modo a se observar a primeira gota de líqudio na solução de vapor. É o que caracteriza o vapor saturado."
   ]
  },
  {
   "cell_type": "markdown",
   "id": "51f2d38d",
   "metadata": {},
   "source": [
    "Solução binária - Ponto de bolha"
   ]
  },
  {
   "cell_type": "markdown",
   "id": "c1aaba34",
   "metadata": {},
   "source": [
    "Conforme escrito, será utilizada a lei de Raoult para calcular o ponto de bolha e de orvalho. <p> Nessa lei, considera-se que o modelo de gás é o ideal (coeficiente de fugacidade é igual a 1) e o de solução também é ideal (coeficiente de atividade é igual a 1) </p>"
   ]
  },
  {
   "cell_type": "markdown",
   "id": "3486380f",
   "metadata": {},
   "source": [
    "### Carregando a tabela e setando o nome do composto como índice"
   ]
  },
  {
   "cell_type": "code",
   "execution_count": 72,
   "id": "0d95dfab",
   "metadata": {},
   "outputs": [],
   "source": [
    "df = pd.read_excel('tabela_antoine.xlsx')\n",
    "df.set_index('Compound Name',inplace=True)"
   ]
  },
  {
   "cell_type": "markdown",
   "id": "ed4758d1",
   "metadata": {},
   "source": [
    "#### Cabeçalho"
   ]
  },
  {
   "cell_type": "code",
   "execution_count": 73,
   "id": "3e3c90ed",
   "metadata": {},
   "outputs": [
    {
     "data": {
      "text/html": [
       "<div>\n",
       "<style scoped>\n",
       "    .dataframe tbody tr th:only-of-type {\n",
       "        vertical-align: middle;\n",
       "    }\n",
       "\n",
       "    .dataframe tbody tr th {\n",
       "        vertical-align: top;\n",
       "    }\n",
       "\n",
       "    .dataframe thead th {\n",
       "        text-align: right;\n",
       "    }\n",
       "</style>\n",
       "<table border=\"1\" class=\"dataframe\">\n",
       "  <thead>\n",
       "    <tr style=\"text-align: right;\">\n",
       "      <th></th>\n",
       "      <th>Formula</th>\n",
       "      <th>A</th>\n",
       "      <th>B</th>\n",
       "      <th>C</th>\n",
       "      <th>TMIN</th>\n",
       "      <th>TMAX</th>\n",
       "    </tr>\n",
       "    <tr>\n",
       "      <th>Compound Name</th>\n",
       "      <th></th>\n",
       "      <th></th>\n",
       "      <th></th>\n",
       "      <th></th>\n",
       "      <th></th>\n",
       "      <th></th>\n",
       "    </tr>\n",
       "  </thead>\n",
       "  <tbody>\n",
       "    <tr>\n",
       "      <th>acetone</th>\n",
       "      <td>C3H6O</td>\n",
       "      <td>7.23160</td>\n",
       "      <td>1277.030</td>\n",
       "      <td>237.23</td>\n",
       "      <td>-32</td>\n",
       "      <td>77</td>\n",
       "    </tr>\n",
       "    <tr>\n",
       "      <th>acetic-acid</th>\n",
       "      <td>C2H4O2</td>\n",
       "      <td>7.29960</td>\n",
       "      <td>1479.020</td>\n",
       "      <td>216.82</td>\n",
       "      <td>17</td>\n",
       "      <td>157</td>\n",
       "    </tr>\n",
       "    <tr>\n",
       "      <th>acetonitrile</th>\n",
       "      <td>C2H3N</td>\n",
       "      <td>7.07350</td>\n",
       "      <td>1279.200</td>\n",
       "      <td>224.01</td>\n",
       "      <td>-13</td>\n",
       "      <td>117</td>\n",
       "    </tr>\n",
       "    <tr>\n",
       "      <th>benzene</th>\n",
       "      <td>C6H6</td>\n",
       "      <td>6.90565</td>\n",
       "      <td>1211.033</td>\n",
       "      <td>220.79</td>\n",
       "      <td>-16</td>\n",
       "      <td>104</td>\n",
       "    </tr>\n",
       "    <tr>\n",
       "      <th>butane</th>\n",
       "      <td>C4H10</td>\n",
       "      <td>6.80896</td>\n",
       "      <td>935.860</td>\n",
       "      <td>238.73</td>\n",
       "      <td>-78</td>\n",
       "      <td>19</td>\n",
       "    </tr>\n",
       "  </tbody>\n",
       "</table>\n",
       "</div>"
      ],
      "text/plain": [
       "              Formula        A         B       C  TMIN  TMAX\n",
       "Compound Name                                               \n",
       "acetone         C3H6O  7.23160  1277.030  237.23   -32    77\n",
       "acetic-acid    C2H4O2  7.29960  1479.020  216.82    17   157\n",
       "acetonitrile    C2H3N  7.07350  1279.200  224.01   -13   117\n",
       "benzene          C6H6  6.90565  1211.033  220.79   -16   104\n",
       "butane          C4H10  6.80896   935.860  238.73   -78    19"
      ]
     },
     "execution_count": 73,
     "metadata": {},
     "output_type": "execute_result"
    }
   ],
   "source": [
    "df.head()"
   ]
  },
  {
   "cell_type": "markdown",
   "id": "7b632876",
   "metadata": {},
   "source": [
    "#### Localizando a acetona"
   ]
  },
  {
   "cell_type": "code",
   "execution_count": 78,
   "id": "5ce9d9ae",
   "metadata": {},
   "outputs": [
    {
     "data": {
      "text/plain": [
       "Formula      C3H6O\n",
       "A           7.2316\n",
       "B          1277.03\n",
       "C           237.23\n",
       "TMIN           -32\n",
       "TMAX            77\n",
       "Name: acetone, dtype: object"
      ]
     },
     "execution_count": 78,
     "metadata": {},
     "output_type": "execute_result"
    }
   ],
   "source": [
    "df.loc['acetone']"
   ]
  },
  {
   "cell_type": "markdown",
   "id": "cc23218f",
   "metadata": {},
   "source": [
    "#### Localizando o valor de A da acetona"
   ]
  },
  {
   "cell_type": "code",
   "execution_count": 79,
   "id": "7d46b215",
   "metadata": {},
   "outputs": [
    {
     "data": {
      "text/plain": [
       "7.2316"
      ]
     },
     "execution_count": 79,
     "metadata": {},
     "output_type": "execute_result"
    }
   ],
   "source": [
    "df.loc['acetone']['A']"
   ]
  },
  {
   "cell_type": "code",
   "execution_count": 83,
   "id": "508eadd9",
   "metadata": {},
   "outputs": [
    {
     "data": {
      "text/plain": [
       "array([7.2316, 1277.03, 237.23], dtype=object)"
      ]
     },
     "execution_count": 83,
     "metadata": {},
     "output_type": "execute_result"
    }
   ],
   "source": [
    "df.loc['acetone'][1:4].values"
   ]
  },
  {
   "cell_type": "markdown",
   "id": "7f14cceb",
   "metadata": {},
   "source": [
    "### Listando os dados do n-butano e do n-pentano"
   ]
  },
  {
   "cell_type": "code",
   "execution_count": 84,
   "id": "8888c935",
   "metadata": {},
   "outputs": [],
   "source": [
    "n_butane =  list(df.loc['butane'][1:4].values)\n",
    "n_pentane = list(df.loc['pentane'][1:4].values)"
   ]
  },
  {
   "cell_type": "markdown",
   "id": "b07645d3",
   "metadata": {},
   "source": [
    "T em ºC e P em mmHg - Abaixo é a equação de Antoine"
   ]
  },
  {
   "cell_type": "code",
   "execution_count": 85,
   "id": "ef3e20f7",
   "metadata": {},
   "outputs": [],
   "source": [
    "def Antoine(A,B,C,T):\n",
    "    return 10**(A - B/(T + C))"
   ]
  },
  {
   "cell_type": "markdown",
   "id": "8f6659ba",
   "metadata": {},
   "source": [
    "Definindo a pressão de saturação do n-butano e do n-pentano"
   ]
  },
  {
   "cell_type": "code",
   "execution_count": 129,
   "id": "859aea60",
   "metadata": {},
   "outputs": [],
   "source": [
    "T = 20.0 #temperatura em ºC\n",
    "P2 = Antoine(n_butane[0],n_butane[1],n_butane[2],T)\n",
    "P1 = Antoine(n_pentane[0],n_pentane[1],n_pentane[2],T)"
   ]
  },
  {
   "cell_type": "markdown",
   "id": "d9f4be31",
   "metadata": {},
   "source": [
    "Equação do ponto de bolha - mistura binária"
   ]
  },
  {
   "cell_type": "code",
   "execution_count": 130,
   "id": "0643cb87",
   "metadata": {},
   "outputs": [],
   "source": [
    "def Bubble(x,P1,P2):\n",
    "    P = P1 + (P2 - P1)*x\n",
    "    return P"
   ]
  },
  {
   "cell_type": "markdown",
   "id": "facf81f9",
   "metadata": {},
   "source": [
    "Equação do ponto de orvalho - mistura binária"
   ]
  },
  {
   "cell_type": "code",
   "execution_count": 131,
   "id": "c5df8f5e",
   "metadata": {},
   "outputs": [],
   "source": [
    "def Dew(y,P1,P2):\n",
    "    P = 1/((y/P2)+((1 - y)/P1))\n",
    "    return P"
   ]
  },
  {
   "cell_type": "markdown",
   "id": "fb4ce1ac",
   "metadata": {},
   "source": [
    "#### Calculando temperatura a partir da pressão"
   ]
  },
  {
   "cell_type": "markdown",
   "id": "1db39faf",
   "metadata": {},
   "source": [
    "Para esse procedimento, será necessário um método numérico, já que devemos encontrar a raiz de um logaritmo"
   ]
  },
  {
   "cell_type": "markdown",
   "id": "b995cd9f",
   "metadata": {},
   "source": [
    "O primeiro passo é isolar e tornar a equação transcedental igual a zero"
   ]
  },
  {
   "cell_type": "markdown",
   "id": "eb42d5ff",
   "metadata": {},
   "source": [
    "$P^{sat}$ - $10^A\\frac{- B}{T+C}$ = 0"
   ]
  },
  {
   "cell_type": "code",
   "execution_count": 288,
   "id": "d8ec2f0c",
   "metadata": {},
   "outputs": [],
   "source": [
    "def f(A,B,C,P,T):\n",
    "    a = Antoine(A,B,C,T)\n",
    "    return P - a"
   ]
  },
  {
   "cell_type": "markdown",
   "id": "43fc20e4",
   "metadata": {},
   "source": [
    "O segundo passo é realizar um método numérico para derivadas - diferenças finitas centrais"
   ]
  },
  {
   "cell_type": "code",
   "execution_count": 311,
   "id": "d2870ebf",
   "metadata": {},
   "outputs": [],
   "source": [
    "def derivada(f,A,B,C,P,T):\n",
    "    df = (f(A,B,C,P,T+0.0001) - f(A,B,C,P,T-0.0001))/0.0002\n",
    "    return df"
   ]
  },
  {
   "cell_type": "markdown",
   "id": "36281017",
   "metadata": {},
   "source": [
    "Defino os parâmetros A,B,C do butano, a pressão que desejo encontrar a temperatura e um chute inicial de T=10ºC"
   ]
  },
  {
   "cell_type": "code",
   "execution_count": 312,
   "id": "b831abed",
   "metadata": {},
   "outputs": [],
   "source": [
    "A,B,C = n_butane[0],n_butane[1],n_butane[2]\n",
    "P = 760\n",
    "T0 = 10"
   ]
  },
  {
   "cell_type": "markdown",
   "id": "c4c77a17",
   "metadata": {},
   "source": [
    "Crio o método de Newton Raphson para obter tal valor de raiz, que será a temperatura em que P = $P^{sat}$"
   ]
  },
  {
   "cell_type": "code",
   "execution_count": 356,
   "id": "bd7b3a49",
   "metadata": {},
   "outputs": [],
   "source": [
    "def NewtonRaphson(T0,A,B,C,P,tol=1e-6):\n",
    "    for i in range(200):\n",
    "        T = T0 - f(A,B,C,P,T0)/derivada(f,A,B,C,P,T0)\n",
    "        error = abs((T - T0)/T)\n",
    "        if error<tol:\n",
    "            break\n",
    "            return T\n",
    "        else:\n",
    "            T0 = T\n",
    "    return T"
   ]
  },
  {
   "cell_type": "code",
   "execution_count": 316,
   "id": "786cb14d",
   "metadata": {},
   "outputs": [
    {
     "data": {
      "text/plain": [
       "-0.49"
      ]
     },
     "execution_count": 316,
     "metadata": {},
     "output_type": "execute_result"
    }
   ],
   "source": [
    "round(NewtonRaphson(T0,A,B,C,P),2)"
   ]
  },
  {
   "cell_type": "markdown",
   "id": "4bc9d928",
   "metadata": {},
   "source": [
    "No caso, a temperatura em que a pressão de saturação do butano é de 760 mmHg é em -0,49ºC"
   ]
  },
  {
   "cell_type": "markdown",
   "id": "27ab3c87",
   "metadata": {},
   "source": [
    "### Plotando a curva do ponto de bolha e de orvalho - Temperatura fixada"
   ]
  },
  {
   "cell_type": "code",
   "execution_count": 416,
   "id": "b1e40a94",
   "metadata": {},
   "outputs": [
    {
     "data": {
      "image/png": "[encoded data removed]",
      "text/plain": [
       "<Figure size 720x576 with 1 Axes>"
      ]
     },
     "metadata": {
      "needs_background": "light"
     },
     "output_type": "display_data"
    }
   ],
   "source": [
    "X = np.linspace(0,1,1000)\n",
    "D = Dew(X,P1,P2)\n",
    "B = Bubble(X,P1,P2)\n",
    "\n",
    "font = {'family': 'serif',\n",
    "        'weight': 'bold',\n",
    "        'size': 20\n",
    "        }\n",
    "plt.figure(figsize=(10,8))\n",
    "plt.plot(X,B,X,D)\n",
    "plt.title(\"Perfil do equilíbrio líquido e vapor - soluções e gases ideais - T = 20ºC\",font={'size':'20'})\n",
    "plt.xlim([0,1])\n",
    "plt.xlabel(\"Fração molar de n-butano\",font={'size':'14'})\n",
    "plt.ylabel(\"Pressão (em kPa)\",font={'size':'14'})\n",
    "plt.legend([\"Bubble point\",\"Dew point\"])\n",
    "plt.grid(True)\n",
    "plt.text(0.3,1200,'Líquido',font = font)\n",
    "plt.text(0.5,900,'ELV',font = font)\n",
    "plt.text(0.8,600,'Vapor',font = font)\n",
    "plt.show()"
   ]
  },
  {
   "cell_type": "markdown",
   "id": "3db0bf1a",
   "metadata": {},
   "source": [
    "### Plotando a curva de temperatura, com pressão fixada"
   ]
  },
  {
   "cell_type": "code",
   "execution_count": 417,
   "id": "3bc93904",
   "metadata": {},
   "outputs": [],
   "source": [
    "X = np.linspace(0.1,0.9,1000)\n",
    "A,B,C = n_butane[0],n_butane[1],n_butane[2]\n",
    "A1,B1,C1 = n_pentane[0],n_pentane[1],n_pentane[2]\n",
    "P = 760 ## pressão de 760 mmHg\n",
    "T0 = 10 ## temperatura inicial "
   ]
  },
  {
   "cell_type": "code",
   "execution_count": 333,
   "id": "146ce375",
   "metadata": {},
   "outputs": [],
   "source": [
    "PbS = Antoine(A,B,C,20)\n",
    "PpS = Antoine(A1,B1,C1,20)"
   ]
  },
  {
   "cell_type": "code",
   "execution_count": 395,
   "id": "98047d0e",
   "metadata": {},
   "outputs": [],
   "source": [
    "def fp(y,P1S,P2S):\n",
    "    Pf = P - 1/((y/P1S) + ((1-y)/P2S))\n",
    "    return Pf"
   ]
  },
  {
   "cell_type": "code",
   "execution_count": 396,
   "id": "086b5859",
   "metadata": {},
   "outputs": [],
   "source": [
    "def dfp(fp,y,P1S,P2S):\n",
    "    dff = (fp(y+0.001,P1S,P2S) - fp(y-0.001,P1S,P2S))/0.002\n",
    "    return dff"
   ]
  },
  {
   "cell_type": "code",
   "execution_count": 397,
   "id": "ed6dd192",
   "metadata": {},
   "outputs": [],
   "source": [
    "def NewtonRaphson2(y0,P1S,P2S,tol=1e-6):\n",
    "    for i in range(200):\n",
    "        y = y0 - fp(y0,P1S,P2S)/dfp(fp,y0,P1S,P2S)\n",
    "        error = abs((y - y0)/y)\n",
    "        if error<tol:\n",
    "            break\n",
    "            return y\n",
    "        else:\n",
    "            y0 = y\n",
    "    return y"
   ]
  },
  {
   "cell_type": "code",
   "execution_count": 406,
   "id": "8bd8418b",
   "metadata": {},
   "outputs": [],
   "source": [
    "Tb = NewtonRaphson(T0,A,B,C,P)\n",
    "Tp = NewtonRaphson(T0,A1,B1,C1,P)\n",
    "Tr = np.linspace(Tp,Tb,100)\n",
    "Pbs = Antoine(A,B,C,Tr)\n",
    "Pps =  Antoine(A1,B1,C1,Tr)\n",
    "x = (P - Pps)/(Pbs - Pps)\n",
    "y0 = 0.9"
   ]
  },
  {
   "cell_type": "code",
   "execution_count": 407,
   "id": "c4c09a00",
   "metadata": {},
   "outputs": [],
   "source": [
    "y = [NewtonRaphson2(y0,Pbs[i],Pps[i]) for i in range(len(Pbs))]"
   ]
  },
  {
   "cell_type": "code",
   "execution_count": 420,
   "id": "c3296851",
   "metadata": {},
   "outputs": [
    {
     "data": {
      "image/png": "[encoded data removed]",
      "text/plain": [
       "<Figure size 720x576 with 1 Axes>"
      ]
     },
     "metadata": {
      "needs_background": "light"
     },
     "output_type": "display_data"
    }
   ],
   "source": [
    "font = {'family': 'serif',\n",
    "        'weight': 'bold',\n",
    "        'size': 20\n",
    "        }\n",
    "plt.figure(figsize=(10,8))\n",
    "plt.plot(y,Tr,x,Tr)\n",
    "plt.title(\"Perfil do equilíbrio líquido e vapor - soluções e gases ideais - P = 760 mmHg\",font={'size':'20'})\n",
    "plt.xlim([0,1])\n",
    "plt.xlabel(\"Fração molar de n-butano\",font={'size':'14'})\n",
    "plt.ylabel(\"Temperatura (em ºC)\",font={'size':'14'})\n",
    "plt.legend([\"Dew point\",\"Bubble point\"])\n",
    "plt.grid(True)\n",
    "plt.text(0.7,30,'Vapor',font = font)\n",
    "plt.text(0.4,20,'ELV',font = font)\n",
    "plt.text(0.2,10,'Líquido',font = font)\n",
    "plt.show()"
   ]
  },
  {
   "cell_type": "code",
   "execution_count": null,
   "id": "5d05b7c9",
   "metadata": {},
   "outputs": [],
   "source": []
  }
 ],
 "metadata": {
  "kernelspec": {
   "display_name": "Python 3",
   "language": "python",
   "name": "python3"
  },
  "language_info": {
   "codemirror_mode": {
    "name": "ipython",
    "version": 3
   },
   "file_extension": ".py",
   "mimetype": "text/x-python",
   "name": "python",
   "nbconvert_exporter": "python",
   "pygments_lexer": "ipython3",
   "version": "3.8.8"
  }
 },
 "nbformat": 4,
 "nbformat_minor": 5
}
