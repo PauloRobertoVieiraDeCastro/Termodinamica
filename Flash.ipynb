{
 "cells": [
  {
   "cell_type": "markdown",
   "id": "a9dea0a3",
   "metadata": {},
   "source": [
    "## Cálculo de Flash"
   ]
  },
  {
   "cell_type": "code",
   "execution_count": null,
   "id": "af3661e7",
   "metadata": {},
   "outputs": [],
   "source": [
    "import numpy as np\n",
    "import matplotlib.pyplot as plt\n",
    "import pandas as pd"
   ]
  },
  {
   "cell_type": "markdown",
   "id": "59e94552",
   "metadata": {},
   "source": [
    "Os vasos flash são equipamentos destinados à separação de componentes de acordo com sua volatilidade. Porém, de forma distinta de uma destilação clássica, o vaso flash possui apenas um estágio de equilíbrio."
   ]
  },
  {
   "cell_type": "markdown",
   "id": "13b35f4d",
   "metadata": {},
   "source": [
    "Para determinar a modelagem do vaso Flash, o que significa a vazão de vapor e líquido de saída, é necessário conhecer o quanto um componente tende a ser volátil, que é dada pela constante $k_{i}$"
   ]
  },
  {
   "cell_type": "markdown",
   "id": "e7ffa330",
   "metadata": {},
   "source": [
    "Considerando uma solução ideal e um gás ideal, conforme a lei de Raoult: <p>\n",
    "$$P^{sat}_{i}x_{i} = Py_{i}$$</p> <p>Logo:</p>\n",
    "<p>$$k_{i} = \\frac{y_{i}}{x_{i}}$$ </p>\n",
    "<p>$$k_{i} = \\frac{P^{sat}_{i}}{P}$$ </p>"
   ]
  },
  {
   "cell_type": "markdown",
   "id": "bb417774",
   "metadata": {},
   "source": [
    "A pressão de saturação é obtida pela equação de Antoine, cujos parâmetros estão presentes na planilha \"tabela_antoine.xlsx\""
   ]
  },
  {
   "cell_type": "markdown",
   "id": "1e02d4fd",
   "metadata": {},
   "source": [
    "O cálculo de flash nesse modelo é apenas um balanço de massa, mas que recai num processo iterativo"
   ]
  },
  {
   "cell_type": "markdown",
   "id": "2a1d620c",
   "metadata": {},
   "source": [
    "O balanço é:\n",
    "<p>$$F = L + V$$</p>\n",
    "<p>$$Fz_{i} = Vy_{i} + Lx_{i}$$</p>"
   ]
  },
  {
   "cell_type": "markdown",
   "id": "9b06be94",
   "metadata": {},
   "source": [
    "Que recai na equação de Rachford, após um simples manejo algébrico desse sistema, considerando a constante $k_{i}$"
   ]
  },
  {
   "cell_type": "markdown",
   "id": "8eb0fd95",
   "metadata": {},
   "source": [
    "$$ 1 - \\sum_{j=0}^{n} \\frac{Fz_{i}k_{i}}{F + V(k_{i} - 1)} = 0$$"
   ]
  },
  {
   "cell_type": "markdown",
   "id": "1319db14",
   "metadata": {},
   "source": [
    "Essa equação deve ser resolvida em função da vazão de vapor, que sendo uma mistura com três ou mais componentes, exigirá um procedimento iterativo para a resolução, como o método de Newton-Raphson.\n",
    "<p>Outra observação relevante é que a mistura que será separada deverá estar em estado de equilíbrio. Dessa forma, deverá estar entre o ponto de bolha e de orvalho. Do contrário, sua resolução é impossível.</p>"
   ]
  },
  {
   "cell_type": "code",
   "execution_count": 5,
   "id": "7c1c6c47",
   "metadata": {},
   "outputs": [],
   "source": [
    "def Antoine(A,B,C,T):\n",
    "    return 10**(A - B/(T + C))"
   ]
  },
  {
   "cell_type": "code",
   "execution_count": 6,
   "id": "827502ef",
   "metadata": {},
   "outputs": [],
   "source": [
    "df = pd.read_excel('tabela_antoine.xlsx')\n",
    "df.set_index('Compound Name',inplace=True)"
   ]
  },
  {
   "cell_type": "code",
   "execution_count": 186,
   "id": "cf5be772",
   "metadata": {},
   "outputs": [
    {
     "data": {
      "text/html": [
       "<div>\n",
       "<style scoped>\n",
       "    .dataframe tbody tr th:only-of-type {\n",
       "        vertical-align: middle;\n",
       "    }\n",
       "\n",
       "    .dataframe tbody tr th {\n",
       "        vertical-align: top;\n",
       "    }\n",
       "\n",
       "    .dataframe thead th {\n",
       "        text-align: right;\n",
       "    }\n",
       "</style>\n",
       "<table border=\"1\" class=\"dataframe\">\n",
       "  <thead>\n",
       "    <tr style=\"text-align: right;\">\n",
       "      <th></th>\n",
       "      <th>Formula</th>\n",
       "      <th>A</th>\n",
       "      <th>B</th>\n",
       "      <th>C</th>\n",
       "      <th>TMIN</th>\n",
       "      <th>TMAX</th>\n",
       "    </tr>\n",
       "    <tr>\n",
       "      <th>Compound Name</th>\n",
       "      <th></th>\n",
       "      <th></th>\n",
       "      <th></th>\n",
       "      <th></th>\n",
       "      <th></th>\n",
       "      <th></th>\n",
       "    </tr>\n",
       "  </thead>\n",
       "  <tbody>\n",
       "    <tr>\n",
       "      <th>acetone</th>\n",
       "      <td>C3H6O</td>\n",
       "      <td>7.23160</td>\n",
       "      <td>1277.030</td>\n",
       "      <td>237.23</td>\n",
       "      <td>-32</td>\n",
       "      <td>77</td>\n",
       "    </tr>\n",
       "    <tr>\n",
       "      <th>acetic-acid</th>\n",
       "      <td>C2H4O2</td>\n",
       "      <td>7.29960</td>\n",
       "      <td>1479.020</td>\n",
       "      <td>216.82</td>\n",
       "      <td>17</td>\n",
       "      <td>157</td>\n",
       "    </tr>\n",
       "    <tr>\n",
       "      <th>acetonitrile</th>\n",
       "      <td>C2H3N</td>\n",
       "      <td>7.07350</td>\n",
       "      <td>1279.200</td>\n",
       "      <td>224.01</td>\n",
       "      <td>-13</td>\n",
       "      <td>117</td>\n",
       "    </tr>\n",
       "    <tr>\n",
       "      <th>benzene</th>\n",
       "      <td>C6H6</td>\n",
       "      <td>6.90565</td>\n",
       "      <td>1211.033</td>\n",
       "      <td>220.79</td>\n",
       "      <td>-16</td>\n",
       "      <td>104</td>\n",
       "    </tr>\n",
       "    <tr>\n",
       "      <th>butane</th>\n",
       "      <td>C4H10</td>\n",
       "      <td>6.80896</td>\n",
       "      <td>935.860</td>\n",
       "      <td>238.73</td>\n",
       "      <td>-78</td>\n",
       "      <td>19</td>\n",
       "    </tr>\n",
       "  </tbody>\n",
       "</table>\n",
       "</div>"
      ],
      "text/plain": [
       "              Formula        A         B       C  TMIN  TMAX\n",
       "Compound Name                                               \n",
       "acetone         C3H6O  7.23160  1277.030  237.23   -32    77\n",
       "acetic-acid    C2H4O2  7.29960  1479.020  216.82    17   157\n",
       "acetonitrile    C2H3N  7.07350  1279.200  224.01   -13   117\n",
       "benzene          C6H6  6.90565  1211.033  220.79   -16   104\n",
       "butane          C4H10  6.80896   935.860  238.73   -78    19"
      ]
     },
     "execution_count": 186,
     "metadata": {},
     "output_type": "execute_result"
    }
   ],
   "source": [
    "df.head()"
   ]
  },
  {
   "cell_type": "markdown",
   "id": "f2d22f51",
   "metadata": {},
   "source": [
    "### Localizando os parâmetros de n-butano, n-pentano, n-hexano e cicloexano para obter a pressão de saturação."
   ]
  },
  {
   "cell_type": "code",
   "execution_count": 97,
   "id": "7adc9e3c",
   "metadata": {},
   "outputs": [],
   "source": [
    "n_butane =  list(df.loc['butane'][1:4].values)\n",
    "n_heptane =  list(df.loc['heptane'][1:4].values)\n",
    "n_pentane = list(df.loc['pentane'][1:4].values)\n",
    "n_hexane = list(df.loc['hexane'][1:4].values)\n",
    "cyclohexane = list(df.loc['cyclohexane'][1:4].values)"
   ]
  },
  {
   "cell_type": "markdown",
   "id": "e2ba77d6",
   "metadata": {},
   "source": [
    "### Parâmetros da alimentação (temperatura, pressão, pressão de saturação dos componentes, fração dos componentes e vazão de alimentação)"
   ]
  },
  {
   "cell_type": "code",
   "execution_count": 207,
   "id": "96509909",
   "metadata": {},
   "outputs": [],
   "source": [
    "T = 110 #temperatura em ºC\n",
    "P = 3800 #pressão em mmHg\n",
    "P1SAT =  Antoine(n_butane[0],n_butane[1],n_butane[2],T)\n",
    "P2SAT = Antoine(n_pentane[0],n_pentane[1],n_pentane[2],T)\n",
    "P3SAT = Antoine(n_hexane[0],n_hexane[1],n_hexane[2],T)\n",
    "P4SAT = Antoine(cyclohexane[0],cyclohexane[1],cyclohexane[2],T)\n",
    "PSAT = [P1SAT,P2SAT,P3SAT,P4SAT]\n",
    "zi = [0.05,0.5,0.3,0.15]\n",
    "F = 1"
   ]
  },
  {
   "cell_type": "markdown",
   "id": "1484b0f2",
   "metadata": {},
   "source": [
    "### Modelo da equação do Flash"
   ]
  },
  {
   "cell_type": "code",
   "execution_count": 211,
   "id": "45dd4ba6",
   "metadata": {},
   "outputs": [],
   "source": [
    "def flash(zi,PSAT,F,P):\n",
    "    \n",
    "    ### cálculo de ki\n",
    "    def k_i(Psat,P):\n",
    "        return Psat/P\n",
    "    \n",
    "    k = [k_i(PSAT[i],P) for i in range(len(PSAT))] \n",
    "    \n",
    "    ## equação de Rachford\n",
    "    def Rachford(zi,ki,F,V):\n",
    "        soma = sum([ (F*zi[i]*ki[i])/(F + V*(k[i] - 1)) for i in range(len(zi)) ])    \n",
    "        raiz = 1 - soma\n",
    "        return raiz\n",
    "    \n",
    "    ## modelo de diferenças finitas para cálculo de derivada\n",
    "    def derivada(Rachford,zi,ki,F,V):\n",
    "        df = (Rachford(zi,ki,F,V+0.0001) - Rachford(zi,ki,F,V-0.0001))/0.0002\n",
    "        return df\n",
    "    \n",
    "    ## cálculo do ponto de bolha\n",
    "    def Bubble(PSAT,zi):\n",
    "        bubble_point = sum([PSAT[i]*zi[i] for i in range(len(zi))])\n",
    "        return bubble_point\n",
    "    \n",
    "    ## cálculo do ponto de orvalho\n",
    "    def Dew(PSAT,zi):\n",
    "        dew_point = 1/sum([(zi[i]/PSAT[i]) for i in range(len(zi))])\n",
    "        return dew_point\n",
    "    \n",
    "    ## chute inicial\n",
    "    V0 = 0.5*F\n",
    "    \n",
    "    ## método de Newton Raphson para resolução do problema\n",
    "    def NewtonRaphson(V0, zi, ki, F,tol=1e-6):\n",
    "        for i in range(200):\n",
    "            V = V0 - Rachford(zi,ki,F,V0)/derivada(Rachford,zi,ki,F,V0)\n",
    "            error = abs((V - V0)/V)\n",
    "            if error<tol:\n",
    "                break\n",
    "                return V\n",
    "            else:\n",
    "                V0 = V\n",
    "        return V\n",
    "    \n",
    "    ## cálculo da pressão do ponto de bolha e orvalho\n",
    "    bubble, dew = Bubble(PSAT,zi), Dew(PSAT,zi)\n",
    "    \n",
    "    ## se estiver entre o ponto de bolha e orvalho, o cálculo será possível\n",
    "    if (P>dew) and (P<bubble):\n",
    "        v = NewtonRaphson(F/2, zi, k, F)\n",
    "        return v, F - v\n",
    "    else:\n",
    "        return \"Alimentação fora do estado de equilíbrio\""
   ]
  },
  {
   "cell_type": "markdown",
   "id": "40d24e20",
   "metadata": {},
   "source": [
    "### Vazão de vapor e líquido nas condições do problema"
   ]
  },
  {
   "cell_type": "code",
   "execution_count": 213,
   "id": "e6a77060",
   "metadata": {},
   "outputs": [
    {
     "data": {
      "text/plain": [
       "(0.4476810946351367, 0.5523189053648633)"
      ]
     },
     "execution_count": 213,
     "metadata": {},
     "output_type": "execute_result"
    }
   ],
   "source": [
    "H = flash(zi,PSAT,F,P)\n",
    "H"
   ]
  },
  {
   "cell_type": "code",
   "execution_count": null,
   "id": "8f116ddd",
   "metadata": {},
   "outputs": [],
   "source": []
  },
  {
   "cell_type": "code",
   "execution_count": null,
   "id": "0c717ecd",
   "metadata": {},
   "outputs": [],
   "source": []
  }
 ],
 "metadata": {
  "kernelspec": {
   "display_name": "Python 3",
   "language": "python",
   "name": "python3"
  },
  "language_info": {
   "codemirror_mode": {
    "name": "ipython",
    "version": 3
   },
   "file_extension": ".py",
   "mimetype": "text/x-python",
   "name": "python",
   "nbconvert_exporter": "python",
   "pygments_lexer": "ipython3",
   "version": "3.8.8"
  }
 },
 "nbformat": 4,
 "nbformat_minor": 5
}
